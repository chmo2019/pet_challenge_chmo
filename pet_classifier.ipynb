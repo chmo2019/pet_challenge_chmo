{
 "cells": [
  {
   "cell_type": "code",
   "execution_count": 8,
   "id": "KsQofh6qw-pA",
   "metadata": {
    "colab": {
     "base_uri": "https://localhost:8080/"
    },
    "id": "KsQofh6qw-pA",
    "outputId": "7c2689a4-4851-4b5f-c2f7-b6f8f304c836"
   },
   "outputs": [
    {
     "name": "stdout",
     "output_type": "stream",
     "text": [
      "Archive:  model2.zip\n",
      "   creating: model2/\n",
      "   creating: model2/assets/\n",
      "   creating: model2/variables/\n",
      "  inflating: model2/variables/variables.data-00000-of-00001  \n",
      "  inflating: model2/variables/variables.index  \n",
      "  inflating: model2/saved_model.pb   \n"
     ]
    }
   ],
   "source": [
    "# unzip the model\n",
    "# tested on Google Colab\n",
    "!unzip model2.zip"
   ]
  },
  {
   "cell_type": "code",
   "execution_count": 9,
   "id": "32556b6c",
   "metadata": {
    "id": "32556b6c"
   },
   "outputs": [],
   "source": [
    "# import necessary packages\n",
    "import tensorflow as tf\n",
    "from tensorflow import keras\n",
    "import numpy as np\n"
   ]
  },
  {
   "cell_type": "code",
   "execution_count": 10,
   "id": "Ck6EIYsXzLQs",
   "metadata": {
    "id": "Ck6EIYsXzLQs"
   },
   "outputs": [],
   "source": [
    "# load saved_model from directory\n",
    "reconstructed_model = keras.models.load_model('./model2')"
   ]
  },
  {
   "cell_type": "code",
   "execution_count": null,
   "id": "f66f3b2d",
   "metadata": {
    "id": "f66f3b2d"
   },
   "outputs": [],
   "source": [
    "# requirements.txt\n",
    "''' numpy==1.18.5\n",
    "    tensorflow==2.3.0\n",
    "'''"
   ]
  },
  {
   "cell_type": "code",
   "execution_count": 24,
   "id": "7b4812a4",
   "metadata": {
    "id": "7b4812a4"
   },
   "outputs": [],
   "source": [
    "# function\n",
    "# ~97 on 400\n",
    "# image validation split\n",
    "\n",
    "def pet_classifier(X):\n",
    "    \n",
    "    # catch shape\n",
    "    assert X.shape[-1] == (64*64), \"shape assertion failed\"\n",
    "    \n",
    "    # reshape into 64x64 image\n",
    "    X = np.array([X[i,:].reshape((64,64)) for i in range(X.shape[0])])\n",
    "    \n",
    "    # normalize image\n",
    "    X = X.astype('float32') / 255.0\n",
    "    \n",
    "    # instantiate model\n",
    "    reconstructed_model = keras.models.load_model('./model2')\n",
    "    \n",
    "    # generate predictions\n",
    "    # threshold sigmoid output\n",
    "    # (-1) - cat, (1) - dog\n",
    "    y_hat = []\n",
    "    for i in range(X.shape[0]):\n",
    "        pred = reconstructed_model.predict(X[i].reshape((1, 64, 64, 1)))[0][0]\n",
    "        if (pred > 0.5):\n",
    "            pred = -1\n",
    "        else:\n",
    "            pred = 1\n",
    "        \n",
    "        y_hat.append(pred)\n",
    "    \n",
    "    # convert to numpy array\n",
    "    y_hat = np.array(y_hat)\n",
    "    \n",
    "    # return predictions\n",
    "    return y_hat"
   ]
  }
 ],
 "metadata": {
  "accelerator": "GPU",
  "colab": {
   "collapsed_sections": [],
   "name": "pet_classifier.ipynb",
   "provenance": []
  },
  "kernelspec": {
   "display_name": "Python 3",
   "language": "python",
   "name": "python3"
  },
  "language_info": {
   "codemirror_mode": {
    "name": "ipython",
    "version": 3
   },
   "file_extension": ".py",
   "mimetype": "text/x-python",
   "name": "python",
   "nbconvert_exporter": "python",
   "pygments_lexer": "ipython3",
   "version": "3.6.9"
  }
 },
 "nbformat": 4,
 "nbformat_minor": 5
}
